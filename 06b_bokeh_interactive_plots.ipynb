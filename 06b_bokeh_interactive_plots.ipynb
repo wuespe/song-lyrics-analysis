{
 "cells": [
  {
   "cell_type": "code",
   "execution_count": null,
   "metadata": {
    "ExecuteTime": {
     "end_time": "2020-06-27T15:27:51.153748Z",
     "start_time": "2020-06-27T15:27:50.586833Z"
    }
   },
   "outputs": [],
   "source": [
    "from bokeh.io import output_notebook, show, save\n",
    "from bokeh.models import ColumnDataSource, NumeralTickFormatter, Legend\n",
    "from bokeh.plotting import figure\n",
    "\n",
    "\n",
    "import pandas as pd"
   ]
  },
  {
   "cell_type": "code",
   "execution_count": null,
   "metadata": {
    "ExecuteTime": {
     "end_time": "2020-06-27T15:27:51.362615Z",
     "start_time": "2020-06-27T15:27:51.345217Z"
    }
   },
   "outputs": [],
   "source": [
    "output_notebook()"
   ]
  },
  {
   "cell_type": "markdown",
   "metadata": {},
   "source": [
    "# Dane"
   ]
  },
  {
   "cell_type": "code",
   "execution_count": null,
   "metadata": {
    "ExecuteTime": {
     "end_time": "2020-06-27T15:27:52.661796Z",
     "start_time": "2020-06-27T15:27:52.600125Z"
    }
   },
   "outputs": [],
   "source": [
    "artists_word_count = pd.read_csv('data/artists_word_count_agg.csv')\n",
    "dt_artists_agg_data = pd.read_csv('data/dt_artists_agg_data.csv')\n",
    "\n",
    "dt_album_agg_data = pd.read_csv('data/dt_album_agg_data.csv')\n",
    "\n",
    "artists_metadata = pd.read_csv('data/artists_metadata.csv')\n",
    "artists_metadata = artists_metadata.set_index('artist')\n",
    "\n",
    "albums_metadata = pd.read_csv('data/albums_metadata.csv')\n",
    "albums_metadata = albums_metadata.set_index(['artist', 'album_id'])"
   ]
  },
  {
   "cell_type": "code",
   "execution_count": null,
   "metadata": {
    "ExecuteTime": {
     "end_time": "2020-06-27T15:27:53.395261Z",
     "start_time": "2020-06-27T15:27:53.368784Z"
    }
   },
   "outputs": [],
   "source": [
    "dt_album_agg_data_aug = dt_album_agg_data.join(albums_metadata, on=['artist', 'album_id'])"
   ]
  },
  {
   "cell_type": "code",
   "execution_count": null,
   "metadata": {
    "ExecuteTime": {
     "end_time": "2020-06-27T15:27:54.060802Z",
     "start_time": "2020-06-27T15:27:54.020434Z"
    }
   },
   "outputs": [],
   "source": [
    "dt_album_agg_data_aug.shape"
   ]
  },
  {
   "cell_type": "code",
   "execution_count": null,
   "metadata": {
    "ExecuteTime": {
     "end_time": "2020-06-27T15:27:54.786701Z",
     "start_time": "2020-06-27T15:27:54.721606Z"
    }
   },
   "outputs": [],
   "source": [
    "dt_album_agg_data_aug.head()"
   ]
  },
  {
   "cell_type": "code",
   "execution_count": null,
   "metadata": {
    "ExecuteTime": {
     "end_time": "2020-06-27T15:28:00.033994Z",
     "start_time": "2020-06-27T15:28:00.010818Z"
    }
   },
   "outputs": [],
   "source": [
    "dt_artists_agg_data_aug = dt_artists_agg_data.join(artists_metadata, on = 'artist')\n",
    "\n",
    "# dt_artists_agg_data_aug['images.url'].isna().sum()\n",
    "\n",
    "# dt_artists_agg_data_aug.head()"
   ]
  },
  {
   "cell_type": "markdown",
   "metadata": {},
   "source": [
    "# Wulgaryzmy vs liczba słów na sekundę"
   ]
  },
  {
   "cell_type": "code",
   "execution_count": null,
   "metadata": {
    "ExecuteTime": {
     "end_time": "2020-06-27T15:28:01.059652Z",
     "start_time": "2020-06-27T15:28:01.003633Z"
    }
   },
   "outputs": [],
   "source": [
    "dt_album_2dplot = dt_album_agg_data_aug.query('N_songs_wL >= 5').rename(columns={'album_images.url': 'url'})\n",
    "dt_album_2dplot['Avg_vulg_ptc'] = pd.Series([\"{0:.2f}%\".format(val * 100) for val in dt_album_2dplot['Avg_vulg']], index = dt_album_2dplot.index)"
   ]
  },
  {
   "cell_type": "code",
   "execution_count": null,
   "metadata": {
    "ExecuteTime": {
     "end_time": "2020-06-27T15:28:01.802869Z",
     "start_time": "2020-06-27T15:28:01.736133Z"
    }
   },
   "outputs": [],
   "source": [
    "dt_album_2dplot.head()"
   ]
  },
  {
   "cell_type": "code",
   "execution_count": null,
   "metadata": {
    "ExecuteTime": {
     "end_time": "2020-06-27T15:28:02.402579Z",
     "start_time": "2020-06-27T15:28:02.388832Z"
    }
   },
   "outputs": [],
   "source": [
    "ALBUM_TOOLTIPS = \"\"\"\n",
    "    <div>\n",
    "        <div>\n",
    "            <img\n",
    "                src=\"@url\" height=\"200\" width=\"200\"\n",
    "                style=\"float: left; margin: 0px 15px 15px 0px;\"\n",
    "                border=\"2\"\n",
    "            ></img>\n",
    "        </div>\n",
    "        <div>\n",
    "            <span style=\"font-size: 17px; font-weight: bold;\">@artist</span>\n",
    "        </div>\n",
    "        <div>\n",
    "            <span style=\"font-size: 15px; font-weight: bold;\">@album_name</span>\n",
    "        </div>\n",
    "        <div>\n",
    "            <span style=\"font-size: 14px;\">@album_label</span>\n",
    "        </div>\n",
    "        <div>\n",
    "            <span style=\"font-size: 14px;\">@album_release_date</span>\n",
    "        </div>\n",
    "        <div>\n",
    "            <span style=\"font-size: 14px;\">@N_words_per_s słów/sek.</span>\n",
    "        </div>\n",
    "        <div>\n",
    "            <span style=\"font-size: 14px;\">@Avg_vulg_ptc wulg</span>\n",
    "        </div>\n",
    "        <div>\n",
    "            <span style=\"font-size: 14px;\">Na podst. tekstów z @N_songs_wL / @N_songs utworów</span>\n",
    "        </div>\n",
    "    </div>\n",
    "\"\"\""
   ]
  },
  {
   "cell_type": "code",
   "execution_count": null,
   "metadata": {
    "ExecuteTime": {
     "end_time": "2020-06-27T15:28:04.792164Z",
     "start_time": "2020-06-27T15:28:04.691959Z"
    },
    "scrolled": false
   },
   "outputs": [],
   "source": [
    "source = ColumnDataSource(dt_album_2dplot)\n",
    "\n",
    "p = figure(plot_width=800, plot_height=600, tooltips=ALBUM_TOOLTIPS,\n",
    "           title=\"Wulgaryzmy vs słowa/s, albumy z >5 utworów\", margin = [20, 0, 20, 0])\n",
    "\n",
    "p.circle('N_words_per_s', 'Avg_vulg', size=10, source=source)\n",
    "\n",
    "p.yaxis[0].formatter = NumeralTickFormatter(format=\"0.0%\")\n",
    "\n",
    "p.title.text_font_size = \"16pt\"\n",
    "\n",
    "\n",
    "show(p)"
   ]
  },
  {
   "cell_type": "code",
   "execution_count": null,
   "metadata": {
    "ExecuteTime": {
     "end_time": "2020-06-27T15:28:16.669867Z",
     "start_time": "2020-06-27T15:28:16.648742Z"
    }
   },
   "outputs": [],
   "source": [
    "artist_album_cnt = dt_album_2dplot.groupby('artist').size()\n",
    "# artist_list = list(artist_album_cnt[artist_album_cnt > 2].index)\n",
    "artist_list = list(set(artist_album_cnt.index) - set(['Sentino']))\n",
    "artist_list.sort()\n",
    "# artist_list_chunks = [artist_list[i:i + 10] for i in range(0, len(artist_list), 10)]\n",
    "artist_list_chunks = [artist_list[i:i + 10] for i in range(0, len(artist_list), 10)]\n",
    "artist_list_chunks.reverse()"
   ]
  },
  {
   "cell_type": "code",
   "execution_count": null,
   "metadata": {
    "ExecuteTime": {
     "end_time": "2020-06-27T15:29:42.895747Z",
     "start_time": "2020-06-27T15:29:41.775057Z"
    }
   },
   "outputs": [],
   "source": [
    "visible_default = ['Peja', 'Quebonafide', 'Taco Hemingway', 'Fisz Emade Tworzywo']\n",
    "\n",
    "p = figure(plot_width=950, plot_height=1000, tooltips=ALBUM_TOOLTIPS,\n",
    "           title=\"Wulgaryzmy vs słowa/s, albumy wybranych raperów\")\n",
    "\n",
    "\n",
    "# p.add_layout(Legend(), 'above')\n",
    "\n",
    "for chunk_ix, artist_list_tmp in enumerate(artist_list_chunks):\n",
    "    circles = {}\n",
    "    row_y_loc = range(15*len(artist_list_chunks), 0, -15)[chunk_ix]\n",
    "    for artist in artist_list_tmp:\n",
    "        source = ColumnDataSource(dt_album_2dplot.query('artist==\"'+ artist +'\"'))\n",
    "        circles[artist] = p.circle('N_words_per_s', 'Avg_vulg', size=10, source=source, \n",
    "                                   alpha=0.6, hover_fill_color=\"purple\")\n",
    "        circles[artist].visible = True if artist in visible_default else False\n",
    "        \n",
    "    legend = Legend(items=[(x, [circles[x]]) for x in artist_list_tmp], location=(0,row_y_loc), orientation='horizontal',\n",
    "               label_text_font_size = \"9pt\", glyph_height = 10 #, spacing=15\n",
    "                   )\n",
    "    p.add_layout(legend, 'above')\n",
    "    \n",
    "   \n",
    "\n",
    "p.legend.click_policy=\"hide\"\n",
    "\n",
    "p.yaxis[0].formatter = NumeralTickFormatter(format=\"0.0%\")\n",
    "\n",
    "p.title.text_font_size = \"16pt\"\n",
    "\n",
    "\n",
    "show(p)"
   ]
  },
  {
   "cell_type": "code",
   "execution_count": null,
   "metadata": {},
   "outputs": [],
   "source": []
  }
 ],
 "metadata": {
  "kernelspec": {
   "display_name": "Python 3",
   "language": "python",
   "name": "python3"
  },
  "language_info": {
   "codemirror_mode": {
    "name": "ipython",
    "version": 3
   },
   "file_extension": ".py",
   "mimetype": "text/x-python",
   "name": "python",
   "nbconvert_exporter": "python",
   "pygments_lexer": "ipython3",
   "version": "3.7.6"
  },
  "toc": {
   "base_numbering": 1,
   "nav_menu": {},
   "number_sections": true,
   "sideBar": true,
   "skip_h1_title": false,
   "title_cell": "Table of Contents",
   "title_sidebar": "Contents",
   "toc_cell": false,
   "toc_position": {},
   "toc_section_display": true,
   "toc_window_display": false
  }
 },
 "nbformat": 4,
 "nbformat_minor": 4
}
